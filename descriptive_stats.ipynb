{
 "cells": [
  {
   "attachments": {},
   "cell_type": "markdown",
   "metadata": {},
   "source": [
    "# Descriptive Statistics, Transformations"
   ]
  },
  {
   "attachments": {},
   "cell_type": "markdown",
   "metadata": {},
   "source": [
    "## Measures of Dispersion"
   ]
  },
  {
   "attachments": {},
   "cell_type": "markdown",
   "metadata": {},
   "source": [
    "- <strong>Range :</strong>The difference between the highest and lowest values in the dataset\n",
    "- <strong>Variance :</strong>The average of the squared differences from the mean\n",
    "- <strong>Standard Deviation :</strong>Shows how your data is spread around the mean \n",
    ">- it's the square-root of variance"
   ]
  },
  {
   "attachments": {},
   "cell_type": "markdown",
   "metadata": {},
   "source": [
    "## 1. Standard Deviation\n",
    "\n",
    "It's a measure of how dispersed the data is in relation to the mean.\n",
    "\n",
    "- low std deviation means the data are scattered around the mean\n",
    "- hight std deviation indicates the data are more spread out\n",
    "\n",
    "the standard deviation value is always positive\n",
    "It's also the square-root of `variance` of the data set\n",
    "\n",
    "**Standard Deviation Formula**\n",
    "- Standard Deviation of Sample Data\n",
    "- Standard Deviation of Population Data"
   ]
  },
  {
   "cell_type": "code",
   "execution_count": null,
   "metadata": {},
   "outputs": [],
   "source": []
  }
 ],
 "metadata": {
  "language_info": {
   "name": "python"
  },
  "orig_nbformat": 4
 },
 "nbformat": 4,
 "nbformat_minor": 2
}
