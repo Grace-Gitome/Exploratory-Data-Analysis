{
 "cells": [
  {
   "attachments": {},
   "cell_type": "markdown",
   "metadata": {},
   "source": [
    "# Descriptive Statistics, Transformations"
   ]
  },
  {
   "attachments": {},
   "cell_type": "markdown",
   "metadata": {},
   "source": [
    "## Measures of Dispersion"
   ]
  },
  {
   "attachments": {},
   "cell_type": "markdown",
   "metadata": {},
   "source": [
    "- <strong>Range :</strong>The difference between the highest and lowest values in the dataset\n",
    "- <strong>Variance :</strong>The average of the squared differences from the mean\n",
    "- <strong>Standard Deviation :</strong>Shows how your data is spread around the mean \n",
    ">- it's the square-root of variance"
   ]
  },
  {
   "attachments": {},
   "cell_type": "markdown",
   "metadata": {},
   "source": [
    "## 1. Standard Deviation\n",
    "\n",
    "It's a measure of how dispersed the data is in relation to the mean.\n",
    "\n",
    "- low std deviation means the data are scattered around the mean\n",
    "- hight std deviation indicates the data are more spread out\n",
    "\n",
    "the standard deviation value is always positive\n",
    "It's also the square-root of `variance` of the data set\n",
    "\n",
    "**Standard Deviation Formula**\n",
    "- Standard Deviation of Sample Data\n",
    "- Standard Deviation of Population Data\n",
    "\n",
    "The formula for the standard deviation of population data is,\n",
    "\n",
    "![standard deviation](std_dev.png)\n",
    "\n",
    "Where,\n",
    "- s = population standard deviation\n",
    "- x<sub>i</sub> = i<sup>th</sup> observation\n",
    "- x ***bar*** = sample mean\n",
    "- N = number of observations\n",
    "\n"
   ]
  },
  {
   "attachments": {},
   "cell_type": "markdown",
   "metadata": {},
   "source": [
    "## Transformation\n",
    "\n",
    "rescaling the distribution of numeric values is necessary for the algorithm to converge faster or to provide a more exact solution.\n",
    "Rescaling mutates the range of the values of the features and can affect variance.\n",
    "You can perform rescaling in two ways:-\n",
    "\n",
    "- statistical `standardization` (z-score normalization)\n",
    ">- Standardization typically means rescaling data to have a mean of 0 and a standard deviation of 1(unit variance)\n",
    "- min-max transformation / `normalization`\n",
    ">- Normalization typically means rescaling the values into a range of [0, 1]"
   ]
  },
  {
   "cell_type": "code",
   "execution_count": null,
   "metadata": {},
   "outputs": [],
   "source": []
  }
 ],
 "metadata": {
  "language_info": {
   "name": "python"
  },
  "orig_nbformat": 4
 },
 "nbformat": 4,
 "nbformat_minor": 2
}
