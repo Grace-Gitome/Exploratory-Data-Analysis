{
 "cells": [
  {
   "attachments": {},
   "cell_type": "markdown",
   "metadata": {},
   "source": [
    "# Titanic Dataset Exploratory Data Analysis\n",
    "\n",
    "## Feature Description:\n",
    "\n",
    "- `PassengerId` - this is just a generated Id of each passenger\n",
    "- `Pclass` - which class did the passenger ride in - first, second or third\n",
    "- `Name`\n",
    "- `Sex` - male or female\n",
    "- `Age`\n",
    "- `SibSp` - were the passenger's spouse or siblings with them on the ship\n",
    "- `Parch` - were the passenger's parents or children with them on the ship\n",
    "- `Ticket` - ticket number\n",
    "- `Fare` - ticket price\n",
    "- `Cabin`\n",
    "- `Embarked` - port of embarkation\n",
    "- `Survived` - did the passenger survive the sinking of the Titanic?"
   ]
  },
  {
   "cell_type": "code",
   "execution_count": null,
   "metadata": {},
   "outputs": [],
   "source": []
  }
 ],
 "metadata": {
  "language_info": {
   "name": "python"
  },
  "orig_nbformat": 4
 },
 "nbformat": 4,
 "nbformat_minor": 2
}
